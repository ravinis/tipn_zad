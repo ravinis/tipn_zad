{
 "cells": [
  {
   "cell_type": "code",
   "execution_count": 1,
   "metadata": {},
   "outputs": [
    {
     "name": "stdin",
     "output_type": "stream",
     "text": [
      "Podaj pierwszy przedmiot:  metodologia\n",
      "podaj ocenę z pierwszego przedmiotu:  4.5\n",
      "Podaj drugi przedmiot:  statystyka\n",
      "Podaj ocenę z drugiego przedmiotu:  4.5\n",
      "Podaj trzeci przedmiot:  psychologia ogólna\n",
      "Podaj ocenę z trzeciego przedmiotu:  5.0\n",
      "Podaj czwarty przedmiot:  anatomia\n",
      "Podaj ocenę z czwartego przedmiotu:  4.5\n",
      "Podaj piaty przedmiot:  logika\n",
      "Podaj ocenę z piątego przedmiotu:  5.0\n"
     ]
    }
   ],
   "source": [
    "przedmioty = []\n",
    "oceny = []\n",
    "\n",
    "przedmiot = input(\"Podaj pierwszy przedmiot: \")\n",
    "przedmioty.append(przedmiot)\n",
    "ocena = input(\"podaj ocenę z pierwszego przedmiotu: \")\n",
    "ocena = float(ocena)\n",
    "oceny.append(ocena)\n",
    "\n",
    "przedmiot = input(\"Podaj drugi przedmiot: \")\n",
    "przedmioty.append(przedmiot)\n",
    "ocena = input(\"Podaj ocenę z drugiego przedmiotu: \")\n",
    "ocena = float(ocena)\n",
    "oceny.append(ocena)\n",
    "\n",
    "przedmiot = input(\"Podaj trzeci przedmiot: \")\n",
    "przedmioty.append(przedmiot)\n",
    "ocena = input(\"Podaj ocenę z trzeciego przedmiotu: \")\n",
    "ocena = float(ocena)\n",
    "oceny.append(ocena)\n",
    "\n",
    "przedmiot = input(\"Podaj czwarty przedmiot: \")\n",
    "przedmioty.append(przedmiot)\n",
    "ocena= input(\"Podaj ocenę z czwartego przedmiotu: \")\n",
    "ocena = float(ocena)\n",
    "oceny.append(ocena)\n",
    "\n",
    "przedmiot = input(\"Podaj piaty przedmiot: \")\n",
    "przedmioty.append(przedmiot)\n",
    "ocena = input(\"Podaj ocenę z piątego przedmiotu: \")\n",
    "ocena = float(ocena)\n",
    "oceny.append(ocena)\n"
   ]
  },
  {
   "cell_type": "code",
   "execution_count": 3,
   "metadata": {},
   "outputs": [
    {
     "data": {
      "text/plain": [
       "['metodologia', 'statystyka', 'psychologia ogólna', 'anatomia', 'logika']"
      ]
     },
     "execution_count": 3,
     "metadata": {},
     "output_type": "execute_result"
    }
   ],
   "source": [
    "przedmioty"
   ]
  },
  {
   "cell_type": "code",
   "execution_count": 4,
   "metadata": {},
   "outputs": [
    {
     "data": {
      "text/plain": [
       "[4.5, 4.5, 5.0, 4.5, 5.0]"
      ]
     },
     "execution_count": 4,
     "metadata": {},
     "output_type": "execute_result"
    }
   ],
   "source": [
    "oceny"
   ]
  },
  {
   "cell_type": "code",
   "execution_count": 9,
   "metadata": {},
   "outputs": [
    {
     "name": "stdout",
     "output_type": "stream",
     "text": [
      "5\n"
     ]
    }
   ],
   "source": [
    "liczba_przedmiotów = len(przedmioty)\n",
    "print(liczba_przedmiotów)"
   ]
  },
  {
   "cell_type": "code",
   "execution_count": 10,
   "metadata": {},
   "outputs": [
    {
     "name": "stdout",
     "output_type": "stream",
     "text": [
      "23.5\n"
     ]
    }
   ],
   "source": [
    "suma = sum(oceny)\n",
    "print(suma)"
   ]
  },
  {
   "cell_type": "code",
   "execution_count": 12,
   "metadata": {},
   "outputs": [
    {
     "name": "stdout",
     "output_type": "stream",
     "text": [
      "4.7\n"
     ]
    }
   ],
   "source": [
    "średnia = suma / liczba_przedmiotów\n",
    "print(średnia)"
   ]
  },
  {
   "cell_type": "code",
   "execution_count": 17,
   "metadata": {},
   "outputs": [
    {
     "name": "stdout",
     "output_type": "stream",
     "text": [
      "Moja średnia to: 4.7\n"
     ]
    }
   ],
   "source": [
    "print(\"Moja średnia to: \" + str(średnia))"
   ]
  },
  {
   "cell_type": "code",
   "execution_count": null,
   "metadata": {},
   "outputs": [],
   "source": []
  }
 ],
 "metadata": {
  "kernelspec": {
   "display_name": "Python 3",
   "language": "python",
   "name": "python3"
  },
  "language_info": {
   "codemirror_mode": {
    "name": "ipython",
    "version": 3
   },
   "file_extension": ".py",
   "mimetype": "text/x-python",
   "name": "python",
   "nbconvert_exporter": "python",
   "pygments_lexer": "ipython3",
   "version": "3.7.0"
  }
 },
 "nbformat": 4,
 "nbformat_minor": 2
}
