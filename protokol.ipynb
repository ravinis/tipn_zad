{
 "cells": [
  {
   "cell_type": "markdown",
   "metadata": {},
   "source": [
    "### **Temat:**\n",
    "Wpływ konformizmu na zachowanie człowieka (badanie inspirowane eksperymentem Ascha).\n",
    "\n",
    "### **Opis eksperymentu:**\n",
    "Eksperyment polega na sprawdzeniu czy pod wpływem innych i ich zdania zachowanie człowieka ulega zmianie. Asch chciał sprawdzić, jak duży jest wpływ konformizmu na nasze zachowanie. \n",
    "\n",
    "### **Instrukcja dla aktorów:**\n",
    "Przed rozpoczęciem eksperymentu aktorzy zostają poinformowani o swojej roli w eksperymencie. Podczas badania grupowego mają za zadanie w jednym na trzy przypadki udzielić niewłaściwej odpowiedzi. Zostaje im przekazne, że dla wiarygodności wskazana byłaby dyskusja. \n",
    "### **Sposób rekrutacji:** \n",
    "15 studentów dobranych losowo i 3 wybranych przez nas aktorów.\n",
    "\n",
    "### **Przebieg eksperymentu:**\n",
    "1. Wybór 3 aktorów, którzy będą mieli za zadanie podać w jednym na trzy przypadki błędną odpowiedź.\n",
    "2. Przed wejściem badanych do sali ustawiamy stół dwa metry od ściany i dostawiamy krzesło.\n",
    "3. Wprowadzenie badanego do sali i prośba o zajęcie wyznaczonego miejsca przy stole oraz o wypełnienie zgody na udział w badaniu a także poinformowanie go o przebiegu badania.\n",
    "4. Po przekazaniu niezbędnych informacji badanemu przechodzimy do rozpoczęcia eksperymentu.\n",
    "5. Na ścianie na przeciwko uczestnika umieszczamy kolejno trzy zestawy ilustracji. W każdym z nich znajdują się dwie karty. Na jednej z kart znajduje się linia wzorcowa, a na drugiej trzy linie różnej długości. Zadaniem uczestnika jest wybranie, która z trzech linii jest najbardziej zbliżona długością do linii wzorcowej.\n",
    "6. Po udzielneniu odpowiedzi badany opuszcza pomieszczenie i otrzymuje podziękowania za udział w pierwszym etapie badania.\n",
    "7. Po wyjściu badanego poproszony zostaje następny uczestnik i wykonuje to same zadanie.\n",
    "8. Po przebadaniu wszystich uczestników indywidualnie, przechodzimy do drugiego etapu naszego eksperymentu. W pomieszczeniu dostawione do stołu zostają trzy krzesła i zostają wprowadzeni aktorzy.\n",
    "9. Uczestnik wchodzi do pomieszczenia, w którym już siedzą trzy inne osoby (aktorzy). Zostaje poinformowany, że reszta uczestkników zjawiła się szybciej i badanie zaraz się rozpocznie.\n",
    "10. Grupie przedstawione zostają te same zestawy ilustracji, które pokazywane były w badaniach indywidualnych. Badani mogą porozumiewać się ze sobą. Po konsultacji każdy kolejno udziela odpowiedzi z uwzlędnieniem tego, że uczestnik, który nie jest aktorem odpowiada ostatni.\n",
    "11. W jednym z trzech zestawów aktorzy udzielają błędnej odpowiedzi.\n",
    "12. Zapisujemy, czy osoba badana udzieliła takiej samej odpowiedzi jakiej udzieliła w badaniu indywidualnym.\n",
    "13. Dziękujemy grupie za udział w badaniu.\n",
    "\n",
    "### **Przewidywany czas przeprowadzania badania:** \n",
    "2- 3 dni "
   ]
  },
  {
   "cell_type": "code",
   "execution_count": null,
   "metadata": {},
   "outputs": [],
   "source": []
  },
  {
   "cell_type": "code",
   "execution_count": null,
   "metadata": {},
   "outputs": [],
   "source": []
  }
 ],
 "metadata": {
  "kernelspec": {
   "display_name": "Python 3",
   "language": "python",
   "name": "python3"
  },
  "language_info": {
   "codemirror_mode": {
    "name": "ipython",
    "version": 3
   },
   "file_extension": ".py",
   "mimetype": "text/x-python",
   "name": "python",
   "nbconvert_exporter": "python",
   "pygments_lexer": "ipython3",
   "version": "3.7.0"
  }
 },
 "nbformat": 4,
 "nbformat_minor": 2
}
