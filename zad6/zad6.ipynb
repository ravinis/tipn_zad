{
 "cells": [
  {
   "cell_type": "markdown",
   "metadata": {},
   "source": [
    "# Witaj w programie badającym Twoją osobowość w nietypowy sposób! To idealny test, jeśli chcesz dowiedzieć się kim tak naprawdę jesteś.\n",
    "## Wystarczy tylko odpowiedzieć na 5 prostych pytań w skali 1-5, gdzie:\n",
    "\n",
    "\n",
    " - **1** oznacza: *całkowicie nie zgadzam się*\n",
    " - **2** oznacza: *nie zgadzam się*\n",
    " - **3** oznacza: *nie mam zdania*\n",
    " - **4** oznacza: *zgadzam się* \n",
    " - **5** oznacza: *całkowicie zgadzam się* \n"
   ]
  },
  {
   "cell_type": "code",
   "execution_count": 31,
   "metadata": {},
   "outputs": [],
   "source": [
    "pyt_1 = \"Czy zgadzasz się ze stwierdzeniem, że Twoje życie bez słodyczy straciłoby sens?\"\n",
    "pyt_2 = \"Czy zgadzasz się ze stwierdzeniem, że weekend bez pizzy to weekend stracony?\"\n",
    "pyt_3 = \"Czy zgadzasz się ze stwierdzeniem, że prędzej uratowałbyś z pożaru ulubioną czekoladę niż ważne dokumenty?\" \n",
    "pyt_4 = \"Czy zgadzasz się ze stwierdzeniem, że sernik z rodzynkami to najgorsze zło?\"\n",
    "pyt_5 = \"Czy zgadzasz się ze stwierdzeniem, że największa zbrodnia to zjedzenie delicji w całości?\"\n",
    "\n",
    "punkty = []\n"
   ]
  },
  {
   "cell_type": "code",
   "execution_count": 32,
   "metadata": {},
   "outputs": [],
   "source": [
    "def test(os): \n",
    "     pytania = [pyt_1 , pyt_2 , pyt_3 , pyt_4 , pyt_5]\n",
    "\n",
    "def zadaj_pytanie(pyt_1):\n",
    "    print(pyt_1)\n",
    "a = input(\"Odpowiedz na pytanie w skali od 1 do 5. Dla przypomnienia: 1 oznacza całkowicie nie zgadzam się, a 5 całkowicie zgadzam się: \")\n",
    "a = int(a)\n",
    "    if a > 5 or a < 1 :\n",
    "        print(\"Podałeś złą liczbę! Musisz zrestartować i zacząć od nowa.\")\n",
    "    else:\n",
    "        return a\n",
    "    \n"
   ]
  },
  {
   "cell_type": "code",
   "execution_count": 33,
   "metadata": {},
   "outputs": [
    {
     "name": "stdout",
     "output_type": "stream",
     "text": [
      "Czy zgadzasz się ze stwierdzeniem, że Twoje życie bez słodyczy straciłoby sens?\n"
     ]
    },
    {
     "name": "stdin",
     "output_type": "stream",
     "text": [
      "Odpowiedz na pytanie w skali od 1 do 5. Dla przypomnienia: 1 oznacza całkowicie nie zgadzam się, a 5 całkowicie zgadzam się:  1\n"
     ]
    },
    {
     "name": "stdout",
     "output_type": "stream",
     "text": [
      "Czy zgadzasz się ze stwierdzeniem, że weekend bez pizzy to weekend stracony?\n"
     ]
    },
    {
     "name": "stdin",
     "output_type": "stream",
     "text": [
      "Odpowiedz na pytanie w skali od 1 do 5. Dla przypomnienia: 1 oznacza całkowicie nie zgadzam się, a 5 całkowicie zgadzam się:  2\n"
     ]
    },
    {
     "name": "stdout",
     "output_type": "stream",
     "text": [
      "Czy zgadzasz się ze stwierdzeniem, że prędzej uratowałbyś z pożaru ulubioną czekoladę niż ważne dokumenty?\n"
     ]
    },
    {
     "name": "stdin",
     "output_type": "stream",
     "text": [
      "Odpowiedz na pytanie w skali od 1 do 5. Dla przypomnienia: 1 oznacza całkowicie nie zgadzam się, a 5 całkowicie zgadzam się:  2\n"
     ]
    },
    {
     "name": "stdout",
     "output_type": "stream",
     "text": [
      "Czy zgadzasz się ze stwierdzeniem, że sernik z rodzynkami to najgorsze zło?\n"
     ]
    },
    {
     "name": "stdin",
     "output_type": "stream",
     "text": [
      "Odpowiedz na pytanie w skali od 1 do 5. Dla przypomnienia: 1 oznacza całkowicie nie zgadzam się, a 5 całkowicie zgadzam się:  1\n"
     ]
    },
    {
     "name": "stdout",
     "output_type": "stream",
     "text": [
      "Czy zgadzasz się ze stwierdzeniem, że największa zbrodnia to zjedzenie delicji w całości?\n"
     ]
    },
    {
     "name": "stdin",
     "output_type": "stream",
     "text": [
      "Odpowiedz na pytanie w skali od 1 do 5. Dla przypomnienia: 1 oznacza całkowicie nie zgadzam się, a 5 całkowicie zgadzam się:  1\n"
     ]
    },
    {
     "name": "stdout",
     "output_type": "stream",
     "text": [
      "Twój wynik to 7 . Twoja osobowość gardzi najlepszym, co w życiu daje przyjemność, czyli jedzeniem. Powinieneś spróbować chociaż obgryźć biszkopt z delicji dookoła. Szczęście jest bliżej niż Ci się wydaje... Wystarczy zajrzeć do lodówki!\n"
     ]
    }
   ],
   "source": [
    "pkt = zadaj_pytanie(pyt_1)\n",
    "punkty.append(pkt)\n",
    "pkt = zadaj_pytanie(pyt_2)\n",
    "punkty.append(pkt)\n",
    "pkt = zadaj_pytanie(pyt_3)\n",
    "punkty.append(pkt)\n",
    "pkt = zadaj_pytanie(pyt_4)\n",
    "punkty.append(pkt)\n",
    "pkt = zadaj_pytanie(pyt_5)\n",
    "punkty.append(pkt)\n",
    "\n",
    "wynik = sum(punkty)\n",
    "wynik = int(wynik)\n",
    "\n",
    "if wynik >= 5 and wynik < 10:\n",
    "    print(\"Twój wynik to\" , wynik, '.', \"Twoja osobowość gardzi najlepszym, co w życiu daje przyjemność, czyli jedzeniem. Powinieneś spróbować chociaż obgryźć biszkopt z delicji dookoła. Szczęście jest bliżej niż Ci się wydaje... Wystarczy zajrzeć do lodówki!\")\n",
    "elif wynik >= 10 and wynik < 15:\n",
    "    print(\"Twój wynik to\" , wynik, '.', \"Nie jesteś na tyle dojrzały osobowościowo, żeby móc pójść za jedzeniem w ogień. Nie jest źle, przynajmniej w kwestii rodzynek jesteśmy zgodni! Zasługujesz na sznasę, ale musisz ciężko pracować, aby być jej godnym w pełni.\")\n",
    "elif wynik >= 15 and wynik < 20:\n",
    "    print(\"Twój wynik to\" , wynik, '.', \"Jesteś na dobrej drodze do sukcesu! Osobowość w początkowym stadium zakochania w jedzeniu z predyspozycjami na coś poważniejszego. Będę Ci kibicować w szybkim rozwoju sytuacji! Pamiętaj, żeby dać szansę uczuciu!\")\n",
    "elif wynik >= 20 and wynik < 25:\n",
    "    print(\"Twój wynik to\" , wynik, '.', \"Jesteś moim osobowościowym bliźniakiem dwujajowym! Do perfekcji zabrakło Ci jedynie małej kostki czekolady czy malutkiego kawałka pizzy! Potrafisz docenić to, co jest najbardziej wartościowe w życiu. Z takim nastawieniem można kremowe góry przenosić!\")\n",
    "elif wynik == 25:\n",
    "    print(\"Twój wynik to\" , wynik, '.', \"Brak mi słow. Łzy cisną się do oczu... Taka osobowość jest rzadko spotykana! Jedzenie jest Twoim bogiem i strażnikiem. Jesteś wszystkim czego światu potrzeba! Prawdziwa wisienka na torcie!\")\n",
    "\n"
   ]
  },
  {
   "cell_type": "code",
   "execution_count": null,
   "metadata": {},
   "outputs": [],
   "source": []
  }
 ],
 "metadata": {
  "kernelspec": {
   "display_name": "Python 3",
   "language": "python",
   "name": "python3"
  },
  "language_info": {
   "codemirror_mode": {
    "name": "ipython",
    "version": 3
   },
   "file_extension": ".py",
   "mimetype": "text/x-python",
   "name": "python",
   "nbconvert_exporter": "python",
   "pygments_lexer": "ipython3",
   "version": "3.7.0"
  }
 },
 "nbformat": 4,
 "nbformat_minor": 2
}
