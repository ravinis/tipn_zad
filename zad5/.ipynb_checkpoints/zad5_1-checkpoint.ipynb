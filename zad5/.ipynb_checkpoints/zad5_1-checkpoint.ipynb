{
 "cells": [
  {
   "cell_type": "code",
   "execution_count": 35,
   "metadata": {},
   "outputs": [
    {
     "name": "stdin",
     "output_type": "stream",
     "text": [
      "Podaj liczbę:  8\n"
     ]
    },
    {
     "name": "stdout",
     "output_type": "stream",
     "text": [
      "Silnia z tej liczby wynosi: \n",
      "40320\n"
     ]
    }
   ],
   "source": [
    "i = input(\"Podaj liczbę: \")\n",
    "i = int(i)\n",
    "silnia = 1\n",
    "\n",
    "while i > 0:\n",
    "    silnia = silnia * i\n",
    "    i = i - 1 \n",
    "    \n",
    "print(\"Silnia z tej liczby wynosi: \")\n",
    "print(silnia)\n"
   ]
  }
 ],
 "metadata": {
  "kernelspec": {
   "display_name": "Python 3",
   "language": "python",
   "name": "python3"
  },
  "language_info": {
   "codemirror_mode": {
    "name": "ipython",
    "version": 3
   },
   "file_extension": ".py",
   "mimetype": "text/x-python",
   "name": "python",
   "nbconvert_exporter": "python",
   "pygments_lexer": "ipython3",
   "version": "3.7.0"
  }
 },
 "nbformat": 4,
 "nbformat_minor": 2
}
