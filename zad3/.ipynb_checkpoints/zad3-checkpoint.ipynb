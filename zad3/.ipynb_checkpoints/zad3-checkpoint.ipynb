{
 "cells": [
  {
   "cell_type": "markdown",
   "metadata": {},
   "source": [
    "## Moje oceny w semestrze zimowym i ich średnia\n",
    "\n",
    "Ten program będzie obliczał średnią ze wszystkich przedmiotów, które mam w tym semestrze na studiach."
   ]
  },
  {
   "cell_type": "code",
   "execution_count": 2,
   "metadata": {},
   "outputs": [],
   "source": [
    "metodologia = 4.5\n",
    "statystyka = 4.5\n",
    "psychologia_ogólna = 5.0\n",
    "trening = 5.0\n",
    "komunikacja = 4.5\n",
    "informatyka = 4.5\n",
    "filozofia = 4.5\n",
    "logika = 4.0\n",
    "anatomia = 4.5\n",
    "wf = 5.0\n",
    "lektorat = 5.0\n",
    "przegląd = 5.0\n",
    "biologiczne_mechanizmy = 4.0\n"
   ]
  },
  {
   "cell_type": "code",
   "execution_count": 3,
   "metadata": {},
   "outputs": [],
   "source": [
    "suma = metodologia + statystyka + psychologia_ogólna + trening + komunikacja + informatyka + filozofia + logika + anatomia + wf + lektorat + przegląd + biologiczne_mechanizmy"
   ]
  },
  {
   "cell_type": "code",
   "execution_count": 19,
   "metadata": {},
   "outputs": [],
   "source": [
    "średnia = suma / 13 "
   ]
  },
  {
   "cell_type": "code",
   "execution_count": 20,
   "metadata": {},
   "outputs": [
    {
     "data": {
      "text/plain": [
       "4.615384615384615"
      ]
     },
     "execution_count": 20,
     "metadata": {},
     "output_type": "execute_result"
    }
   ],
   "source": [
    "średnia "
   ]
  },
  {
   "cell_type": "code",
   "execution_count": 25,
   "metadata": {},
   "outputs": [
    {
     "name": "stdout",
     "output_type": "stream",
     "text": [
      "moja średnia w pierwszym semestrze to 4.615384615384615\n"
     ]
    }
   ],
   "source": [
    "print (\"moja średnia w pierwszym semestrze to \" + str(średnia))"
   ]
  },
  {
   "cell_type": "code",
   "execution_count": null,
   "metadata": {},
   "outputs": [],
   "source": []
  }
 ],
 "metadata": {
  "kernelspec": {
   "display_name": "Python 3",
   "language": "python",
   "name": "python3"
  },
  "language_info": {
   "codemirror_mode": {
    "name": "ipython",
    "version": 3
   },
   "file_extension": ".py",
   "mimetype": "text/x-python",
   "name": "python",
   "nbconvert_exporter": "python",
   "pygments_lexer": "ipython3",
   "version": "3.7.0"
  }
 },
 "nbformat": 4,
 "nbformat_minor": 2
}
